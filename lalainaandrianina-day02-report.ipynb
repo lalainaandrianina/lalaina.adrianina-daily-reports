{
 "cells": [
  {
   "cell_type": "markdown",
   "id": "67beb523-6734-44ca-bfd0-2379d0bb3272",
   "metadata": {},
   "source": [
    "****\n",
    "\n",
    "# <center> <b> <span style=\"color:green;\"> Python Proficiency for Scientific Computing and Data Science (PyPro-SCiDaS)  </span> </b></center>\n",
    "\n",
    "### <center> <b> <span style=\"color:red;\">My Day-2 report About Variable  </span> </b></center>\n",
    "    "
   ]
  },
  {
   "cell_type": "code",
   "execution_count": 2,
   "id": "3e222ca9-f13d-46ef-938b-364573da9ccd",
   "metadata": {},
   "outputs": [
    {
     "name": "stdout",
     "output_type": "stream",
     "text": [
      "None <class 'NoneType'>\n"
     ]
    }
   ],
   "source": [
    "x = None \n",
    "print(x, type(x))"
   ]
  },
  {
   "cell_type": "code",
   "execution_count": 3,
   "id": "f73380a6-ffc9-4372-a495-de60c1121106",
   "metadata": {},
   "outputs": [
    {
     "data": {
      "text/plain": [
       "int"
      ]
     },
     "execution_count": 3,
     "metadata": {},
     "output_type": "execute_result"
    }
   ],
   "source": [
    "number = 25\n",
    "type(number)"
   ]
  },
  {
   "cell_type": "code",
   "execution_count": 4,
   "id": "0e33803c-49d3-4262-a4a5-2aac3b558e30",
   "metadata": {},
   "outputs": [
    {
     "name": "stdout",
     "output_type": "stream",
     "text": [
      "<class 'str'>\n"
     ]
    }
   ],
   "source": [
    "place = \"Kigali\"\n",
    "print(type(place))"
   ]
  },
  {
   "cell_type": "markdown",
   "id": "8853eb13-ae43-402b-b744-42336daf608e",
   "metadata": {},
   "source": [
    "We can also find that a number can have type as a string , for example :"
   ]
  },
  {
   "cell_type": "code",
   "execution_count": 5,
   "id": "231abca8-f369-40fc-b182-3af6bd3ba3e5",
   "metadata": {},
   "outputs": [
    {
     "name": "stdout",
     "output_type": "stream",
     "text": [
      "<class 'int'>\n",
      "<class 'float'>\n",
      "25\n",
      "25.0\n"
     ]
    }
   ],
   "source": [
    "x = 25\n",
    "y = float(x)\n",
    "print(type(x))\n",
    "print(type(y))\n",
    "print(x)\n",
    "print(y)"
   ]
  },
  {
   "cell_type": "code",
   "execution_count": 6,
   "id": "95e5a095-ffcc-4fca-aa25-6dce1c0d1e62",
   "metadata": {},
   "outputs": [
    {
     "data": {
      "text/plain": [
       "True"
      ]
     },
     "execution_count": 6,
     "metadata": {},
     "output_type": "execute_result"
    }
   ],
   "source": [
    "x == y"
   ]
  },
  {
   "cell_type": "code",
   "execution_count": 7,
   "id": "13eb3fab-1860-4f94-8621-f10aa70218f7",
   "metadata": {},
   "outputs": [],
   "source": [
    "x = 5.2"
   ]
  },
  {
   "cell_type": "code",
   "execution_count": 8,
   "id": "b63dcc72-aae8-46da-bbab-040e3f52f1e9",
   "metadata": {},
   "outputs": [
    {
     "name": "stdout",
     "output_type": "stream",
     "text": [
      "['__abs__', '__add__', '__bool__', '__ceil__', '__class__', '__delattr__', '__dir__', '__divmod__', '__doc__', '__eq__', '__float__', '__floor__', '__floordiv__', '__format__', '__ge__', '__getattribute__', '__getformat__', '__getnewargs__', '__getstate__', '__gt__', '__hash__', '__init__', '__init_subclass__', '__int__', '__le__', '__lt__', '__mod__', '__mul__', '__ne__', '__neg__', '__new__', '__pos__', '__pow__', '__radd__', '__rdivmod__', '__reduce__', '__reduce_ex__', '__repr__', '__rfloordiv__', '__rmod__', '__rmul__', '__round__', '__rpow__', '__rsub__', '__rtruediv__', '__setattr__', '__sizeof__', '__str__', '__sub__', '__subclasshook__', '__truediv__', '__trunc__', 'as_integer_ratio', 'conjugate', 'fromhex', 'hex', 'imag', 'is_integer', 'real']\n"
     ]
    }
   ],
   "source": [
    "print(dir(x))"
   ]
  },
  {
   "cell_type": "code",
   "execution_count": 10,
   "id": "266f53ec-537a-454b-9712-32e196aaf392",
   "metadata": {},
   "outputs": [
    {
     "data": {
      "text/plain": [
       "False"
      ]
     },
     "execution_count": 10,
     "metadata": {},
     "output_type": "execute_result"
    }
   ],
   "source": [
    "x.is_integer()"
   ]
  },
  {
   "cell_type": "code",
   "execution_count": 15,
   "id": "79227a9a-a65c-4806-8094-babfecd50bb6",
   "metadata": {},
   "outputs": [
    {
     "name": "stdout",
     "output_type": "stream",
     "text": [
      "Help on built-in function is_integer:\n",
      "\n",
      "is_integer() method of builtins.float instance\n",
      "    Return True if the float is an integer.\n",
      "\n",
      "None\n"
     ]
    }
   ],
   "source": [
    "print(help(x.is_integer))"
   ]
  },
  {
   "cell_type": "code",
   "execution_count": 22,
   "id": "bfc3e334-68d8-4dc2-bb3a-9a83dbc685cb",
   "metadata": {},
   "outputs": [
    {
     "name": "stdin",
     "output_type": "stream",
     "text": [
      "Enter your age: 85\n"
     ]
    },
    {
     "name": "stdout",
     "output_type": "stream",
     "text": [
      "you don't look like 85!\n"
     ]
    }
   ],
   "source": [
    "age = input(\"Enter your age:\")\n",
    "print(\"you don't look like \" + age + \"!\")"
   ]
  },
  {
   "cell_type": "markdown",
   "id": "e29bd583-b95f-4e77-bbe9-9dff37ac40d8",
   "metadata": {},
   "source": [
    "To swap  variable"
   ]
  },
  {
   "cell_type": "code",
   "execution_count": 19,
   "id": "b0564357-0b8a-49d5-959f-60ba724d4e7b",
   "metadata": {},
   "outputs": [
    {
     "data": {
      "text/plain": [
       "(7, 8)"
      ]
     },
     "execution_count": 19,
     "metadata": {},
     "output_type": "execute_result"
    }
   ],
   "source": [
    "a = 8 \n",
    "b = 7\n",
    "a, b = b, a\n",
    "a,b"
   ]
  },
  {
   "cell_type": "code",
   "execution_count": 20,
   "id": "13b2f141-c282-4944-98ce-0b13c80ff88e",
   "metadata": {},
   "outputs": [
    {
     "name": "stdout",
     "output_type": "stream",
     "text": [
      "False\n",
      "-1\n"
     ]
    }
   ],
   "source": [
    "var = 2\n",
    "var1 = -1\n",
    "var = not var1\n",
    "print(var)\n",
    "print(var1)"
   ]
  },
  {
   "cell_type": "code",
   "execution_count": null,
   "id": "80e24985-76e4-49b6-8d51-50a964df3447",
   "metadata": {},
   "outputs": [],
   "source": []
  }
 ],
 "metadata": {
  "kernelspec": {
   "display_name": "Python 3 (ipykernel)",
   "language": "python",
   "name": "python3"
  },
  "language_info": {
   "codemirror_mode": {
    "name": "ipython",
    "version": 3
   },
   "file_extension": ".py",
   "mimetype": "text/x-python",
   "name": "python",
   "nbconvert_exporter": "python",
   "pygments_lexer": "ipython3",
   "version": "3.12.2"
  }
 },
 "nbformat": 4,
 "nbformat_minor": 5
}
