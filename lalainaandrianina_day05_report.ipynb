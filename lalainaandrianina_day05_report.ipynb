{
 "cells": [
  {
   "cell_type": "markdown",
   "id": "2f998518-58b9-443f-8259-942533308b92",
   "metadata": {},
   "source": [
    "<center>\n",
    "\n",
    "# AFRICAN INSTITUTE FOR MATHEMATICAL SCIENCES\n",
    "\n",
    "### (AIMS RWANDA, KIGALI)\n",
    "\n",
    "</center>"
   ]
  },
  {
   "cell_type": "markdown",
   "id": "bb70105a-9a13-413a-9ac9-64ac513c05f8",
   "metadata": {},
   "source": [
    "---\n",
    "---\n",
    "####  Name: ANDRIANANTENAINA Zo Lalaina Andrianina\n",
    "#### Email: lalaina.andrianina@aims.ac.rw\n",
    "#### Daily report number: 05\n",
    "#### Date : 29/09/2025\n",
    "---\n",
    "---"
   ]
  },
  {
   "cell_type": "markdown",
   "id": "3d56fd11-5c7e-4c98-8744-ef5408f6e5dc",
   "metadata": {},
   "source": [
    "## List, set, dictionnary and tuple"
   ]
  },
  {
   "cell_type": "markdown",
   "id": "4380a893-a977-4c58-9f2f-7898ab01b0d5",
   "metadata": {},
   "source": [
    "## 1) List"
   ]
  },
  {
   "cell_type": "code",
   "execution_count": 19,
   "id": "ed2b538c-a81b-40b3-9a2c-a4af321abaf1",
   "metadata": {},
   "outputs": [],
   "source": [
    "x = [50, 52, 6, 25, 85]\n",
    "y = [\"Christian\", \"Zo\", \"Kaliana\"]\n",
    "z = [\"Lalaina\", 50, \"Andrianina\", 25, 6, 5.0, 5]\n"
   ]
  },
  {
   "cell_type": "code",
   "execution_count": 20,
   "id": "9a774112-64cb-45a0-857d-a2c943a532b3",
   "metadata": {},
   "outputs": [
    {
     "data": {
      "text/plain": [
       "([50, 52, 6, 25, 85],\n",
       " ['Christian', 'Zo', 'Kaliana'],\n",
       " ['Lalaina', 50, 'Andrianina', 25, 6, 5.0, 5])"
      ]
     },
     "execution_count": 20,
     "metadata": {},
     "output_type": "execute_result"
    }
   ],
   "source": [
    "x,y,z"
   ]
  },
  {
   "cell_type": "markdown",
   "id": "3401e6c3-8a5f-4822-a3f1-08b80ff77140",
   "metadata": {},
   "source": [
    "#del list\n",
    "b = list(range(1, 4))\n",
    "print(b)"
   ]
  },
  {
   "cell_type": "code",
   "execution_count": 49,
   "id": "e6c7b532-809e-454f-ba65-cc95ad497158",
   "metadata": {},
   "outputs": [
    {
     "data": {
      "text/plain": [
       "([[1, 2, 3], [5, 4, 8], [85, 5, 9]], [[[2, 5], [5, 8, 5], [88, 8, 6]]])"
      ]
     },
     "execution_count": 49,
     "metadata": {},
     "output_type": "execute_result"
    }
   ],
   "source": [
    "lit1 = [[1,2,3], [5,4,8],[85,5,9]]\n",
    "list = [[[2, 5], [5,8,5], [88, 8, 6]]]\n",
    "lit1, list"
   ]
  },
  {
   "cell_type": "code",
   "execution_count": 56,
   "id": "b962043c-543a-4b41-87e0-8147acb90a0f",
   "metadata": {},
   "outputs": [
    {
     "data": {
      "text/plain": [
       "[[2, 5], [5, 8, 5], [88, 8, 6]]"
      ]
     },
     "execution_count": 56,
     "metadata": {},
     "output_type": "execute_result"
    }
   ],
   "source": [
    "list[0]"
   ]
  },
  {
   "cell_type": "code",
   "execution_count": 57,
   "id": "2fe6b5c0-0bb1-40e6-a905-dcd95929d8ce",
   "metadata": {},
   "outputs": [
    {
     "data": {
      "text/plain": [
       "[[1, 2, 3], [5, 4, 8], [85, 5, 9], [[2, 5], [5, 8, 5], [88, 8, 6]]]"
      ]
     },
     "execution_count": 57,
     "metadata": {},
     "output_type": "execute_result"
    }
   ],
   "source": [
    "lit1 + list"
   ]
  },
  {
   "cell_type": "code",
   "execution_count": 58,
   "id": "d63e1e7b-4ecb-4c6b-bf5c-4bed832f5215",
   "metadata": {},
   "outputs": [
    {
     "data": {
      "text/plain": [
       "[[[2, 5], [5, 8, 5], [88, 8, 6]],\n",
       " [[2, 5], [5, 8, 5], [88, 8, 6]],\n",
       " [[2, 5], [5, 8, 5], [88, 8, 6]]]"
      ]
     },
     "execution_count": 58,
     "metadata": {},
     "output_type": "execute_result"
    }
   ],
   "source": [
    "list*3"
   ]
  },
  {
   "cell_type": "code",
   "execution_count": null,
   "id": "a6c80dd2-03ed-4893-9963-bc5d4ea0953d",
   "metadata": {},
   "outputs": [],
   "source": []
  },
  {
   "cell_type": "markdown",
   "id": "c95b0713-aa19-4115-a6ea-1db593863909",
   "metadata": {},
   "source": [
    "## 2) Tuple"
   ]
  },
  {
   "cell_type": "code",
   "execution_count": 32,
   "id": "1c2c9bf2-3c17-4dee-992e-9c1983a7fbfa",
   "metadata": {},
   "outputs": [
    {
     "data": {
      "text/plain": [
       "((1, 2, 6, 8, 8, 99, 88),\n",
       " ('Lalaina', 'Zo', 'Chrisian', 'Kalina'),\n",
       " (52, 'Lalaina', 5558, 'Lila', 5, 8, 'Titi'))"
      ]
     },
     "execution_count": 32,
     "metadata": {},
     "output_type": "execute_result"
    }
   ],
   "source": [
    "a = (1, 2, 6, 8, 8, 99, 88)\n",
    "h = (\"Lalaina\", \"Zo\", \"Chrisian\", \"Kalina\")\n",
    "g = (52, \"Lalaina\", 5558, \"Lila\", 5, 8, \"Titi\")\n",
    "a,h,g"
   ]
  },
  {
   "cell_type": "code",
   "execution_count": 33,
   "id": "2d8c5144-f449-4a65-a8ac-a852b9946e68",
   "metadata": {},
   "outputs": [],
   "source": [
    "i = tuple(range(1,10))"
   ]
  },
  {
   "cell_type": "code",
   "execution_count": 34,
   "id": "e54c13de-d2ee-4ac9-8352-91e51ebd78d3",
   "metadata": {},
   "outputs": [
    {
     "data": {
      "text/plain": [
       "(1, 2, 3, 4, 5, 6, 7, 8, 9)"
      ]
     },
     "execution_count": 34,
     "metadata": {},
     "output_type": "execute_result"
    }
   ],
   "source": [
    "i"
   ]
  },
  {
   "cell_type": "markdown",
   "id": "b5ee4bba-9264-4d09-9cfc-ff3f419bcd3c",
   "metadata": {},
   "source": [
    "## 3) Set"
   ]
  },
  {
   "cell_type": "code",
   "execution_count": 37,
   "id": "6c9d89fc-1709-4dc2-a17f-066484fbdc9e",
   "metadata": {},
   "outputs": [
    {
     "data": {
      "text/plain": [
       "({1, 2, 8, 25, 52, 65},\n",
       " {'Andrianina', 'Diane', 'Kaliana', 'Lalaina'},\n",
       " {45, 5, 54, 585, 'Jean', 'Kiara', 'Lalaina'},\n",
       " {5, 7, 8, 'Amboara', 'Linda', 'Tomefy'})"
      ]
     },
     "execution_count": 37,
     "metadata": {},
     "output_type": "execute_result"
    }
   ],
   "source": [
    "s = {1, 2, 52, 8, 8, 65, 25}\n",
    "j = {\"Lalaina\", \"Andrianina\", \"Kaliana\", \"Diane\"}\n",
    "o = {5, 45, 585, \"Lalaina\", \"Jean\", 54, \"Kiara\"}\n",
    "k = [\"Linda\", \"Tomefy\",5, 8, 7, \"Amboara\"]\n",
    "K = set(k)\n",
    "s, j, o, K"
   ]
  },
  {
   "cell_type": "code",
   "execution_count": 77,
   "id": "0152cfd4-2f5a-45d7-8b0c-809326a9e683",
   "metadata": {},
   "outputs": [
    {
     "name": "stdout",
     "output_type": "stream",
     "text": [
      "X =  {'a', 'i', 'L', 'n', 'l'}\n",
      "Y = {'a', 't', 'M', 'r', 'i', 'o', 'n'}\n"
     ]
    }
   ],
   "source": [
    "X, Y = set(\"Lalaina\") , set(\"Miranto\")\n",
    "print(\"X = \", X)\n",
    "print(\"Y =\" ,Y)\n"
   ]
  },
  {
   "cell_type": "code",
   "execution_count": 80,
   "id": "a2838c03-331d-4deb-8279-9567550df430",
   "metadata": {},
   "outputs": [
    {
     "name": "stdout",
     "output_type": "stream",
     "text": [
      "False\n"
     ]
    }
   ],
   "source": [
    "print(\"c\" in X)"
   ]
  },
  {
   "cell_type": "code",
   "execution_count": 81,
   "id": "1d002d56-d166-403d-bf47-b3ef34c67346",
   "metadata": {},
   "outputs": [
    {
     "name": "stdout",
     "output_type": "stream",
     "text": [
      "{'l', 'L'}\n"
     ]
    }
   ],
   "source": [
    "print(X-Y)"
   ]
  },
  {
   "cell_type": "code",
   "execution_count": 82,
   "id": "ea5f13ff-833b-4753-9b41-2f5fa9633c73",
   "metadata": {},
   "outputs": [
    {
     "name": "stdout",
     "output_type": "stream",
     "text": [
      "{'t', 'o', 'M', 'r'}\n"
     ]
    }
   ],
   "source": [
    "print(Y - X)"
   ]
  },
  {
   "cell_type": "code",
   "execution_count": 83,
   "id": "140e4238-d644-4556-b6b9-b3f6c64d29d8",
   "metadata": {},
   "outputs": [
    {
     "name": "stdout",
     "output_type": "stream",
     "text": [
      "{'a', 'n', 'i'}\n"
     ]
    }
   ],
   "source": [
    "print(X & Y)"
   ]
  },
  {
   "cell_type": "markdown",
   "id": "6a98a02d-f84c-4ce7-9591-369fc50a6706",
   "metadata": {},
   "source": [
    "## 4) Dictionary"
   ]
  },
  {
   "cell_type": "code",
   "execution_count": 39,
   "id": "605f79c8-a974-48a2-8727-1419311b2f4c",
   "metadata": {},
   "outputs": [
    {
     "data": {
      "text/plain": [
       "({'name': 'Lalaina',\n",
       "  'number_phone': 325959074,\n",
       "  'Country': 'Madagascar',\n",
       "  'ID': 125},\n",
       " {'Participant': ['Zo', 'Lalaina', 'Andrianina', 'Kaliana'],\n",
       "  'Id': [25, 65, 45, 21],\n",
       "  'Country': ['Madagascar', 'Mauritius', 'South_Africa']})"
      ]
     },
     "execution_count": 39,
     "metadata": {},
     "output_type": "execute_result"
    }
   ],
   "source": [
    "t = {\"name\" : \"Lalaina\",\n",
    "     \"number_phone\" : 325959074,\n",
    "     \"Country\" : \"Madagascar\",\n",
    "     \"ID\" : 125\n",
    "      }\n",
    "h = { \"Participant\" : [\"Zo\", \"Lalaina\", \"Andrianina\", \"Kaliana\"],\n",
    "      \"Id\" : [25,65,45,21],\n",
    "     \"Country\" : [\"Madagascar\", \"Mauritius\", \"South_Africa\"] \n",
    "}\n",
    "t,h"
   ]
  },
  {
   "cell_type": "code",
   "execution_count": null,
   "id": "202bcae6-7dd0-4e7f-b73e-748a422ddfd9",
   "metadata": {},
   "outputs": [],
   "source": [
    "t['']"
   ]
  },
  {
   "cell_type": "code",
   "execution_count": 40,
   "id": "19a5cd1e-980a-468e-9c58-6c2f37daeaae",
   "metadata": {},
   "outputs": [
    {
     "data": {
      "text/plain": [
       "dict"
      ]
     },
     "execution_count": 40,
     "metadata": {},
     "output_type": "execute_result"
    }
   ],
   "source": [
    "type(t)"
   ]
  },
  {
   "cell_type": "code",
   "execution_count": 41,
   "id": "254b196d-6828-4a73-b454-72b70bc6f80d",
   "metadata": {},
   "outputs": [
    {
     "data": {
      "text/plain": [
       "list"
      ]
     },
     "execution_count": 41,
     "metadata": {},
     "output_type": "execute_result"
    }
   ],
   "source": [
    "type(x)"
   ]
  },
  {
   "cell_type": "code",
   "execution_count": 42,
   "id": "bbea8148-b9b7-445b-8d04-0bad2e4d09da",
   "metadata": {},
   "outputs": [
    {
     "data": {
      "text/plain": [
       "tuple"
      ]
     },
     "execution_count": 42,
     "metadata": {},
     "output_type": "execute_result"
    }
   ],
   "source": [
    "type(g)"
   ]
  },
  {
   "cell_type": "code",
   "execution_count": 44,
   "id": "27e31951-3295-411f-a166-05fc7926cc23",
   "metadata": {},
   "outputs": [
    {
     "data": {
      "text/plain": [
       "set"
      ]
     },
     "execution_count": 44,
     "metadata": {},
     "output_type": "execute_result"
    }
   ],
   "source": [
    "type(o)"
   ]
  },
  {
   "cell_type": "code",
   "execution_count": 62,
   "id": "90b243a6-c1a9-44b8-87fc-6dd555846cbd",
   "metadata": {},
   "outputs": [
    {
     "data": {
      "text/plain": [
       "dict_keys(['name', 'number_phone', 'Country', 'ID'])"
      ]
     },
     "execution_count": 62,
     "metadata": {},
     "output_type": "execute_result"
    }
   ],
   "source": [
    "t.keys()"
   ]
  },
  {
   "cell_type": "code",
   "execution_count": 63,
   "id": "e7299ec5-75b5-4f68-bc17-9755a8e40f5a",
   "metadata": {},
   "outputs": [
    {
     "data": {
      "text/plain": [
       "dict_values(['Lalaina', 325959074, 'Madagascar', 125])"
      ]
     },
     "execution_count": 63,
     "metadata": {},
     "output_type": "execute_result"
    }
   ],
   "source": [
    "t.values()"
   ]
  },
  {
   "cell_type": "code",
   "execution_count": 64,
   "id": "a0178821-5831-48ef-9b38-9634e7f479c8",
   "metadata": {},
   "outputs": [
    {
     "data": {
      "text/plain": [
       "'Lalaina'"
      ]
     },
     "execution_count": 64,
     "metadata": {},
     "output_type": "execute_result"
    }
   ],
   "source": [
    "t[\"name\"]"
   ]
  },
  {
   "cell_type": "code",
   "execution_count": 69,
   "id": "b35106a7-e525-4674-acb7-a92e422928b8",
   "metadata": {},
   "outputs": [
    {
     "data": {
      "text/plain": [
       "'Zo'"
      ]
     },
     "execution_count": 69,
     "metadata": {},
     "output_type": "execute_result"
    }
   ],
   "source": [
    "h[\"Participant\"][0]"
   ]
  },
  {
   "cell_type": "code",
   "execution_count": 71,
   "id": "af2008a1-1b38-4949-bbb3-5d8565a8450d",
   "metadata": {},
   "outputs": [],
   "source": [
    "list.append([1,2])"
   ]
  },
  {
   "cell_type": "code",
   "execution_count": 72,
   "id": "1401af3f-f2d8-42ea-973b-767fb43e7718",
   "metadata": {},
   "outputs": [
    {
     "data": {
      "text/plain": [
       "[[[2, 5], [5, 8, 5], [88, 8, 6]], [1, 2]]"
      ]
     },
     "execution_count": 72,
     "metadata": {},
     "output_type": "execute_result"
    }
   ],
   "source": [
    "list"
   ]
  },
  {
   "cell_type": "code",
   "execution_count": 73,
   "id": "fef39a4f-0f8e-4ec8-9e51-21a4745945a2",
   "metadata": {},
   "outputs": [],
   "source": [
    "list.extend([52, 2])"
   ]
  },
  {
   "cell_type": "code",
   "execution_count": 74,
   "id": "5454b458-56ae-44d4-a96d-82b30ee3b6d0",
   "metadata": {},
   "outputs": [
    {
     "data": {
      "text/plain": [
       "[[[2, 5], [5, 8, 5], [88, 8, 6]], [1, 2], 52, 2]"
      ]
     },
     "execution_count": 74,
     "metadata": {},
     "output_type": "execute_result"
    }
   ],
   "source": [
    "list"
   ]
  },
  {
   "cell_type": "code",
   "execution_count": null,
   "id": "00c5346c-ec4e-4057-af65-148258268026",
   "metadata": {},
   "outputs": [],
   "source": []
  }
 ],
 "metadata": {
  "kernelspec": {
   "display_name": "Python 3 (ipykernel)",
   "language": "python",
   "name": "python3"
  },
  "language_info": {
   "codemirror_mode": {
    "name": "ipython",
    "version": 3
   },
   "file_extension": ".py",
   "mimetype": "text/x-python",
   "name": "python",
   "nbconvert_exporter": "python",
   "pygments_lexer": "ipython3",
   "version": "3.12.2"
  }
 },
 "nbformat": 4,
 "nbformat_minor": 5
}
