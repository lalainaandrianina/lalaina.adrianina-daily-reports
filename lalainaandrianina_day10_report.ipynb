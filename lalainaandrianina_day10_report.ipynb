{
 "cells": [
  {
   "cell_type": "markdown",
   "id": "b3179f10-6547-4e2f-8a5b-66e7bba61932",
   "metadata": {},
   "source": [
    "<center>\n",
    "\n",
    "# AFRICAN INSTITUTE FOR MATHEMATICAL SCIENCES\n",
    "\n",
    "### (AIMS RWANDA, KIGALI)\n",
    "\n",
    "</center>"
   ]
  },
  {
   "cell_type": "markdown",
   "id": "4e8c347e-2a1a-4f77-8398-86c307179f7f",
   "metadata": {},
   "source": [
    "---\n",
    "---\n",
    "####  Name: ANDRIANANTENAINA Zo Lalaina Andrianina\n",
    "#### Email: lalaina.andrianina@aims.ac.rw\n",
    "#### Daily report number: 10\n",
    "#### Date : 03/10/2025\n",
    "---\n",
    "---"
   ]
  },
  {
   "cell_type": "markdown",
   "id": "a0ac44a1-1bfb-4447-ba28-c5421f544f42",
   "metadata": {},
   "source": [
    "`variable + type + operations`"
   ]
  },
  {
   "cell_type": "code",
   "execution_count": 3,
   "id": "2386f55e-aca6-437d-a2dc-53a052b9b734",
   "metadata": {},
   "outputs": [
    {
     "name": "stdout",
     "output_type": "stream",
     "text": [
      "45\n",
      "1.93\n",
      "AIMS in Kigali\n"
     ]
    }
   ],
   "source": [
    "my_int = 45\n",
    "my_float = 1.93\n",
    "my_str = 'AIMS in Kigali'\n",
    "\n",
    "print(my_int)\n",
    "print(my_float)\n",
    "print(my_str)\n"
   ]
  },
  {
   "cell_type": "code",
   "execution_count": 5,
   "id": "981c9a17-12a2-472a-939d-59c88a1ea33b",
   "metadata": {},
   "outputs": [
    {
     "name": "stdout",
     "output_type": "stream",
     "text": [
      "<class 'int'>\n",
      "<class 'float'>\n",
      "<class 'str'>\n"
     ]
    }
   ],
   "source": [
    "print(type(my_int))\n",
    "print(type(my_float))\n",
    "print(type(my_str))"
   ]
  },
  {
   "cell_type": "code",
   "execution_count": 6,
   "id": "d2ca5d7d-e9a5-4ce1-9c71-83c4a26001ce",
   "metadata": {},
   "outputs": [],
   "source": [
    "my_int1 = 42\n",
    "my_float1 = 1.83\n",
    "my_str1 = 'AIMS in Limbe'"
   ]
  },
  {
   "cell_type": "code",
   "execution_count": 7,
   "id": "b58f7c0e-ef51-437f-815d-49934924afb3",
   "metadata": {},
   "outputs": [
    {
     "name": "stdout",
     "output_type": "stream",
     "text": [
      "87\n",
      "3.76\n",
      "AIMS in KigaliAIMS in Limbe\n"
     ]
    }
   ],
   "source": [
    "print(my_int + my_int1)\n",
    "print(my_float + my_float1)\n",
    "print(my_str + my_str1)"
   ]
  },
  {
   "cell_type": "code",
   "execution_count": 10,
   "id": "515fb858-e711-4772-bb4f-3cd7cb417564",
   "metadata": {},
   "outputs": [
    {
     "name": "stdout",
     "output_type": "stream",
     "text": [
      "42.0\n"
     ]
    },
    {
     "data": {
      "text/plain": [
       "float"
      ]
     },
     "execution_count": 10,
     "metadata": {},
     "output_type": "execute_result"
    }
   ],
   "source": [
    "my_int_1_float = float(my_int1)\n",
    "print(my_int_1_float)\n",
    "type(my_int_1_float)"
   ]
  },
  {
   "cell_type": "code",
   "execution_count": 11,
   "id": "353cd3a3-28a8-462d-8e43-e593a70b22d2",
   "metadata": {},
   "outputs": [
    {
     "data": {
      "text/plain": [
       "'42'"
      ]
     },
     "execution_count": 11,
     "metadata": {},
     "output_type": "execute_result"
    }
   ],
   "source": [
    "my_int_1_str = str(my_int1)\n",
    "my_int_1_str"
   ]
  },
  {
   "cell_type": "code",
   "execution_count": 12,
   "id": "56976aab-bada-4c4e-96dd-0b3bb8b4ede3",
   "metadata": {},
   "outputs": [
    {
     "data": {
      "text/plain": [
       "str"
      ]
     },
     "execution_count": 12,
     "metadata": {},
     "output_type": "execute_result"
    }
   ],
   "source": [
    "type(my_int_1_str)"
   ]
  },
  {
   "cell_type": "code",
   "execution_count": 13,
   "id": "33136835-cbbb-432c-abc5-0bca32dfc033",
   "metadata": {},
   "outputs": [
    {
     "data": {
      "text/plain": [
       "'AIMS in Limbe'"
      ]
     },
     "execution_count": 13,
     "metadata": {},
     "output_type": "execute_result"
    }
   ],
   "source": [
    "my_str1 = 'AIMS in Limbe'\n",
    "my_str1"
   ]
  },
  {
   "cell_type": "code",
   "execution_count": 14,
   "id": "ee97d017-bfb3-4e93-83eb-904f0402a5f3",
   "metadata": {},
   "outputs": [
    {
     "data": {
      "text/plain": [
       "'e'"
      ]
     },
     "execution_count": 14,
     "metadata": {},
     "output_type": "execute_result"
    }
   ],
   "source": [
    "my_str1[-1]"
   ]
  },
  {
   "cell_type": "code",
   "execution_count": 15,
   "id": "23957a5b-66ca-4d7b-9535-40ccf5045135",
   "metadata": {},
   "outputs": [
    {
     "data": {
      "text/plain": [
       "'i'"
      ]
     },
     "execution_count": 15,
     "metadata": {},
     "output_type": "execute_result"
    }
   ],
   "source": [
    "my_str1[5]"
   ]
  },
  {
   "cell_type": "code",
   "execution_count": 16,
   "id": "abf4dfe7-bd77-43fd-8844-fa1229a9a271",
   "metadata": {},
   "outputs": [
    {
     "data": {
      "text/plain": [
       "'M n'"
      ]
     },
     "execution_count": 16,
     "metadata": {},
     "output_type": "execute_result"
    }
   ],
   "source": [
    "my_str1[2:8:2]"
   ]
  },
  {
   "cell_type": "markdown",
   "id": "87920d5d-104b-40c4-8348-a3704336e0b7",
   "metadata": {},
   "source": [
    "### `list , tuple, sets, dicto`"
   ]
  },
  {
   "cell_type": "code",
   "execution_count": 18,
   "id": "9e814e95-ff8f-470d-b6ea-b77fb60b3fb8",
   "metadata": {},
   "outputs": [
    {
     "name": "stdout",
     "output_type": "stream",
     "text": [
      "[2, 5, 'AIMS', 98, 45, 67, 'AIMS in Kigali']\n"
     ]
    }
   ],
   "source": [
    "my_first_list = [2, 5, 'AIMS', 98, 45, 67, my_str]\n",
    "print(my_first_list)"
   ]
  },
  {
   "cell_type": "code",
   "execution_count": 21,
   "id": "77f9a09e-a602-445a-b57d-bf5a05e389b6",
   "metadata": {},
   "outputs": [
    {
     "data": {
      "text/plain": [
       "2"
      ]
     },
     "execution_count": 21,
     "metadata": {},
     "output_type": "execute_result"
    }
   ],
   "source": [
    "my_first_list[0]"
   ]
  },
  {
   "cell_type": "code",
   "execution_count": 22,
   "id": "b4848172-86f6-40c8-822c-3a72dbf8e3af",
   "metadata": {},
   "outputs": [
    {
     "data": {
      "text/plain": [
       "'AIMS in Kigali'"
      ]
     },
     "execution_count": 22,
     "metadata": {},
     "output_type": "execute_result"
    }
   ],
   "source": [
    "my_first_list[-1]"
   ]
  },
  {
   "cell_type": "code",
   "execution_count": 23,
   "id": "3d201a85-b06c-4924-8174-1eff541dab84",
   "metadata": {},
   "outputs": [
    {
     "data": {
      "text/plain": [
       "98"
      ]
     },
     "execution_count": 23,
     "metadata": {},
     "output_type": "execute_result"
    }
   ],
   "source": [
    "my_first_list[3]"
   ]
  },
  {
   "cell_type": "code",
   "execution_count": 24,
   "id": "e00c8a8a-38d0-4515-bbc2-1ed3dccde310",
   "metadata": {},
   "outputs": [
    {
     "data": {
      "text/plain": [
       "[2,\n",
       " 5,\n",
       " 'AIMS',\n",
       " 98,\n",
       " 45,\n",
       " 67,\n",
       " 'AIMS in Kigali',\n",
       " 'AIMS in Kigali',\n",
       " 'AIMS in Kigali']"
      ]
     },
     "execution_count": 24,
     "metadata": {},
     "output_type": "execute_result"
    }
   ],
   "source": [
    "my_first_list + 2* [my_first_list[-1]]"
   ]
  },
  {
   "cell_type": "code",
   "execution_count": 25,
   "id": "65415ea9-7c86-4f8d-9097-d05727151516",
   "metadata": {},
   "outputs": [
    {
     "data": {
      "text/plain": [
       "[2, 5, 'AIMS', 98, 45, 67, 'AIMS in Kigali', 1, 2, 6, 8]"
      ]
     },
     "execution_count": 25,
     "metadata": {},
     "output_type": "execute_result"
    }
   ],
   "source": [
    "my_first_list + [1, 2, 6, 8]"
   ]
  },
  {
   "cell_type": "code",
   "execution_count": 27,
   "id": "2d76e9e1-f252-473b-9ea1-e7ef2b6a44d2",
   "metadata": {},
   "outputs": [
    {
     "data": {
      "text/plain": [
       "[2, 5, 'AIMS', 98, 45, 67, 'AIMS in Kigali', 1, 2, 6, 8]"
      ]
     },
     "execution_count": 27,
     "metadata": {},
     "output_type": "execute_result"
    }
   ],
   "source": [
    "my_first_list1 = my_first_list + [1, 2, 6, 8]\n",
    "my_first_list1"
   ]
  },
  {
   "cell_type": "code",
   "execution_count": 28,
   "id": "39574e02-2c24-4412-830d-27ab5fdf8239",
   "metadata": {},
   "outputs": [
    {
     "data": {
      "text/plain": [
       "[98, 'AIMS in Kigali', 6]"
      ]
     },
     "execution_count": 28,
     "metadata": {},
     "output_type": "execute_result"
    }
   ],
   "source": [
    "my_first_list1[3:10:3]"
   ]
  },
  {
   "cell_type": "code",
   "execution_count": 29,
   "id": "910e2314-3fe9-4cae-93d0-8d4f7573d156",
   "metadata": {},
   "outputs": [
    {
     "data": {
      "text/plain": [
       "{'std1': ['Zo', 'AIMS-RW', 95, 95, 94, 98],\n",
       " 'std2': ['Tim', 'AIMS-SN', 92, 87, 90, 93]}"
      ]
     },
     "execution_count": 29,
     "metadata": {},
     "output_type": "execute_result"
    }
   ],
   "source": [
    "my_dic = {\n",
    "        'std1' : [\"Zo\" , 'AIMS-RW', 95, 95, 94, 98] , 'std2' : [\"Tim\", 'AIMS-SN', 92, 87, 90, 93]}\n",
    "    \n",
    "my_dic"
   ]
  },
  {
   "cell_type": "code",
   "execution_count": 30,
   "id": "460fd6f2-6d52-4cfc-a71b-786e3bf666f6",
   "metadata": {},
   "outputs": [
    {
     "data": {
      "text/plain": [
       "dict_keys(['std1', 'std2'])"
      ]
     },
     "execution_count": 30,
     "metadata": {},
     "output_type": "execute_result"
    }
   ],
   "source": [
    "my_dic.keys()"
   ]
  },
  {
   "cell_type": "code",
   "execution_count": 31,
   "id": "53c2f5bc-bc2a-490d-8642-b47c4320781d",
   "metadata": {},
   "outputs": [
    {
     "data": {
      "text/plain": [
       "dict_values([['Zo', 'AIMS-RW', 95, 95, 94, 98], ['Tim', 'AIMS-SN', 92, 87, 90, 93]])"
      ]
     },
     "execution_count": 31,
     "metadata": {},
     "output_type": "execute_result"
    }
   ],
   "source": [
    "my_dic.values()"
   ]
  },
  {
   "cell_type": "code",
   "execution_count": 32,
   "id": "ddc5669d-ac3f-4bf1-a2b7-129f1abab968",
   "metadata": {},
   "outputs": [
    {
     "data": {
      "text/plain": [
       "dict_items([('std1', ['Zo', 'AIMS-RW', 95, 95, 94, 98]), ('std2', ['Tim', 'AIMS-SN', 92, 87, 90, 93])])"
      ]
     },
     "execution_count": 32,
     "metadata": {},
     "output_type": "execute_result"
    }
   ],
   "source": [
    "my_dic.items()"
   ]
  },
  {
   "cell_type": "code",
   "execution_count": 34,
   "id": "2d95924d-ec7c-4638-a0cd-432ca90daec4",
   "metadata": {},
   "outputs": [
    {
     "data": {
      "text/plain": [
       "['Zo', 'AIMS-RW', 95, 95, 94, 98]"
      ]
     },
     "execution_count": 34,
     "metadata": {},
     "output_type": "execute_result"
    }
   ],
   "source": [
    "my_dic['std1']"
   ]
  },
  {
   "cell_type": "code",
   "execution_count": 36,
   "id": "2f9f79c4-874e-4439-a7f4-ff2404c259f2",
   "metadata": {},
   "outputs": [],
   "source": [
    "my_dic['std3'] = ['Z', 'Tataf', 35, 18, 14, 18]"
   ]
  },
  {
   "cell_type": "code",
   "execution_count": 37,
   "id": "8207355b-1562-4b60-9cd3-55cf769f726e",
   "metadata": {},
   "outputs": [
    {
     "data": {
      "text/plain": [
       "{'std1': ['Zo', 'AIMS-RW', 95, 95, 94, 98],\n",
       " 'std2': ['Tim', 'AIMS-SN', 92, 87, 90, 93],\n",
       " 'std3': ['Z', 'Tataf', 35, 18, 14, 18]}"
      ]
     },
     "execution_count": 37,
     "metadata": {},
     "output_type": "execute_result"
    }
   ],
   "source": [
    "my_dic"
   ]
  },
  {
   "cell_type": "code",
   "execution_count": 38,
   "id": "149d7bb7-dda5-42f3-bd6b-319e9e47d109",
   "metadata": {},
   "outputs": [
    {
     "name": "stdout",
     "output_type": "stream",
     "text": [
      "10\n"
     ]
    }
   ],
   "source": [
    "a = 10\n",
    "if a > 0:\n",
    "    print(a)"
   ]
  },
  {
   "cell_type": "code",
   "execution_count": 39,
   "id": "7d7a9537-1dc4-4c90-a835-7a84107c516a",
   "metadata": {},
   "outputs": [
    {
     "name": "stdout",
     "output_type": "stream",
     "text": [
      "ooops\n"
     ]
    }
   ],
   "source": [
    "b = - 20\n",
    "if b > 0:\n",
    "    print(a)\n",
    "\n",
    "else:\n",
    "    print(\"ooops\")"
   ]
  },
  {
   "cell_type": "code",
   "execution_count": 41,
   "id": "27cb1f13-11c6-4ebe-8cc7-974fde0cc0ad",
   "metadata": {},
   "outputs": [
    {
     "name": "stdout",
     "output_type": "stream",
     "text": [
      "Good\n"
     ]
    }
   ],
   "source": [
    "c = 0\n",
    "if c > 0:\n",
    "    print(\"Positive, too much\")\n",
    "\n",
    "elif c < 0:\n",
    "    print(\"Negative, too low\")\n",
    "\n",
    "else:\n",
    "    print(\"Good\")"
   ]
  },
  {
   "cell_type": "code",
   "execution_count": 42,
   "id": "061da3e0-93a4-4719-b58d-f7dfd7c1157f",
   "metadata": {},
   "outputs": [
    {
     "name": "stdout",
     "output_type": "stream",
     "text": [
      "Zo\n",
      "AIMS-RW\n",
      "95\n",
      "95\n",
      "94\n",
      "98\n"
     ]
    }
   ],
   "source": [
    "for counter in  ['Zo', 'AIMS-RW', 95, 95, 94, 98]:\n",
    "    print(counter)\n",
    " "
   ]
  },
  {
   "cell_type": "code",
   "execution_count": 43,
   "id": "3093f031-2114-4420-8c31-731944570594",
   "metadata": {},
   "outputs": [
    {
     "name": "stdout",
     "output_type": "stream",
     "text": [
      "1\n",
      "4\n",
      "9\n",
      "16\n",
      "25\n",
      "36\n",
      "49\n",
      "64\n",
      "81\n",
      "100\n"
     ]
    }
   ],
   "source": [
    "i = 1\n",
    "while (i <= 10):\n",
    "    print(i ** 2)\n",
    "    i = i + 1"
   ]
  },
  {
   "cell_type": "code",
   "execution_count": 49,
   "id": "65531a21-ac88-4ee7-83a5-5b443970ed1d",
   "metadata": {},
   "outputs": [],
   "source": [
    "def power_v1(number, base):\n",
    "    \"\"\"\n",
    "    Compute number number**base\n",
    "    Input: number,base\n",
    "    Output :number**base\n",
    "    \n",
    "    return number, base, number**base"
   ]
  },
  {
   "cell_type": "code",
   "execution_count": 50,
   "id": "a013dd11-27aa-4f48-a3b5-252c8fba56be",
   "metadata": {},
   "outputs": [
    {
     "data": {
      "text/plain": [
       "(2, 3, 8)"
      ]
     },
     "execution_count": 50,
     "metadata": {},
     "output_type": "execute_result"
    }
   ],
   "source": [
    "power_v1(2,3)"
   ]
  },
  {
   "cell_type": "code",
   "execution_count": 51,
   "id": "4008f150-bfc7-454d-b5f2-9ef4793ead1d",
   "metadata": {},
   "outputs": [],
   "source": [
    "def power_v2(number, base):\n",
    "    \"\"\"\n",
    "    Compute number number**base\n",
    "    Input: number,base\n",
    "    Output :number**base\n",
    "    \"\"\"\n",
    "    return number, base, number**base"
   ]
  },
  {
   "cell_type": "code",
   "execution_count": 52,
   "id": "a18c3dff-21fe-405f-ba3e-40ac324bdff2",
   "metadata": {},
   "outputs": [
    {
     "data": {
      "text/plain": [
       "(3, 5, 243)"
      ]
     },
     "execution_count": 52,
     "metadata": {},
     "output_type": "execute_result"
    }
   ],
   "source": [
    "power_v2(3,5)"
   ]
  },
  {
   "cell_type": "code",
   "execution_count": null,
   "id": "a68ce590-3b9a-40bd-a0ca-f9acc4ed3278",
   "metadata": {},
   "outputs": [],
   "source": []
  }
 ],
 "metadata": {
  "kernelspec": {
   "display_name": "Python 3 (ipykernel)",
   "language": "python",
   "name": "python3"
  },
  "language_info": {
   "codemirror_mode": {
    "name": "ipython",
    "version": 3
   },
   "file_extension": ".py",
   "mimetype": "text/x-python",
   "name": "python",
   "nbconvert_exporter": "python",
   "pygments_lexer": "ipython3",
   "version": "3.12.2"
  }
 },
 "nbformat": 4,
 "nbformat_minor": 5
}
