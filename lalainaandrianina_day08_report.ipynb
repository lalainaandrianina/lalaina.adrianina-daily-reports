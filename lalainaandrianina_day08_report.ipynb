{
 "cells": [
  {
   "cell_type": "markdown",
   "id": "222051bf-5abf-45bf-8108-cef38bab2353",
   "metadata": {},
   "source": [
    "<center>\n",
    "\n",
    "# AFRICAN INSTITUTE FOR MATHEMATICAL SCIENCES\n",
    "\n",
    "### (AIMS RWANDA, KIGALI)\n",
    "\n",
    "</center>"
   ]
  },
  {
   "cell_type": "markdown",
   "id": "f14a14e5-a646-4d4d-9e25-fac9849f89ff",
   "metadata": {},
   "source": [
    "---\n",
    "---\n",
    "####  Name: ANDRIANANTENAINA Zo Lalaina Andrianina\n",
    "#### Email: lalaina.andrianina@aims.ac.rw\n",
    "#### Daily report number: 08\n",
    "#### Date : 02 /09/2025\n",
    "---\n",
    "---"
   ]
  },
  {
   "cell_type": "markdown",
   "id": "58672b8a-bbb4-4dd0-82d4-0dac47200ed2",
   "metadata": {},
   "source": [
    "## Recursive function"
   ]
  },
  {
   "cell_type": "code",
   "execution_count": 5,
   "id": "cf84ef7a-954a-4157-90c5-1888e702c15d",
   "metadata": {},
   "outputs": [],
   "source": [
    "def fact(n):\n",
    "    if n<= 0:\n",
    "        return 1\n",
    "\n",
    "    return n*fact(n-1)"
   ]
  },
  {
   "cell_type": "code",
   "execution_count": 6,
   "id": "1c280dd1-6795-4e98-912b-049a29cc74c5",
   "metadata": {},
   "outputs": [
    {
     "data": {
      "text/plain": [
       "2"
      ]
     },
     "execution_count": 6,
     "metadata": {},
     "output_type": "execute_result"
    }
   ],
   "source": [
    "fact(2)"
   ]
  },
  {
   "cell_type": "markdown",
   "id": "e38ed642-a779-405d-8661-6af45706f3c0",
   "metadata": {},
   "source": [
    "here are two clean recursive examples:"
   ]
  },
  {
   "cell_type": "markdown",
   "id": "adb0a691-2792-4f1d-b24e-c728f9de684e",
   "metadata": {},
   "source": [
    "## 1) Fibonacci sequence"
   ]
  },
  {
   "cell_type": "code",
   "execution_count": 16,
   "id": "63c06e1d-3ab5-4e47-9614-db444c1e08e0",
   "metadata": {},
   "outputs": [],
   "source": [
    "def fibonacci(n):\n",
    "    if n == 0:\n",
    "        return 0\n",
    "\n",
    "    if n == 1:\n",
    "        return 1\n",
    "    if n >= 2 :\n",
    "        return fibonacci(n-1) + fibonacci(n-2)\n",
    "           \n",
    "    \n",
    "\n",
    "    "
   ]
  },
  {
   "cell_type": "code",
   "execution_count": 17,
   "id": "04349ce5-5825-4c42-ad85-57bc0a065412",
   "metadata": {},
   "outputs": [
    {
     "data": {
      "text/plain": [
       "8"
      ]
     },
     "execution_count": 17,
     "metadata": {},
     "output_type": "execute_result"
    }
   ],
   "source": [
    "fibonacci(6)"
   ]
  },
  {
   "cell_type": "markdown",
   "id": "555483b1-6bef-4b3c-8fe9-135ea278f1d4",
   "metadata": {},
   "source": [
    "## Lambda function"
   ]
  },
  {
   "cell_type": "code",
   "execution_count": 18,
   "id": "56bc64ea-0f79-4a7b-9358-c96b4858f61b",
   "metadata": {},
   "outputs": [
    {
     "name": "stdout",
     "output_type": "stream",
     "text": [
      "8\n"
     ]
    }
   ],
   "source": [
    "double = lambda x: x * 2\n",
    "print(double(4))"
   ]
  },
  {
   "cell_type": "code",
   "execution_count": 19,
   "id": "6ea9981d-cb51-43a9-bff1-b7724221ff26",
   "metadata": {},
   "outputs": [
    {
     "name": "stdout",
     "output_type": "stream",
     "text": [
      "25\n",
      "8\n"
     ]
    }
   ],
   "source": [
    "def power(n):\n",
    "    return lambda x : x**n\n",
    "\n",
    "square = power(2)\n",
    "cube = power(3)\n",
    "\n",
    "print(square(5))\n",
    "print(cube(2))"
   ]
  },
  {
   "cell_type": "code",
   "execution_count": null,
   "id": "f4130ba3-424d-4d25-9a47-0b1cd35ba838",
   "metadata": {},
   "outputs": [],
   "source": []
  }
 ],
 "metadata": {
  "kernelspec": {
   "display_name": "Python 3 (ipykernel)",
   "language": "python",
   "name": "python3"
  },
  "language_info": {
   "codemirror_mode": {
    "name": "ipython",
    "version": 3
   },
   "file_extension": ".py",
   "mimetype": "text/x-python",
   "name": "python",
   "nbconvert_exporter": "python",
   "pygments_lexer": "ipython3",
   "version": "3.12.2"
  }
 },
 "nbformat": 4,
 "nbformat_minor": 5
}
