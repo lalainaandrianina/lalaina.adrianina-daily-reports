{
 "cells": [
  {
   "cell_type": "markdown",
   "id": "0af2d13b-2ba4-4eac-a767-4fbc01fd313b",
   "metadata": {},
   "source": [
    "<center>\n",
    "\n",
    "# AFRICAN INSTITUTE FOR MATHEMATICAL SCIENCES\n",
    "\n",
    "### (AIMS RWANDA, KIGALI)\n",
    "\n",
    "</center>"
   ]
  },
  {
   "cell_type": "markdown",
   "id": "88717d48-1742-4bda-b5cb-5dd6a881dd96",
   "metadata": {},
   "source": [
    "---\n",
    "---\n",
    "####  Name: ANDRIANANTENAINA Zo Lalaina Andrianina\n",
    "#### Email: lalaina.andrianina@aims.ac.rw\n",
    "#### Daily report number: 07\n",
    "#### Date : 31/09/2025\n",
    "---\n",
    "---"
   ]
  },
  {
   "cell_type": "markdown",
   "id": "4657253c-7d99-4b35-9087-b9131daa7ca5",
   "metadata": {},
   "source": [
    "## Functions"
   ]
  },
  {
   "cell_type": "markdown",
   "id": "c2373719-d358-4f56-affb-622ff119df82",
   "metadata": {},
   "source": [
    "### \n",
    "`input` and `print`"
   ]
  },
  {
   "cell_type": "markdown",
   "id": "fa30821b-4dc0-4bb4-9ca3-348caa1b090e",
   "metadata": {},
   "source": [
    "### user-defined\n",
    "``` python\n",
    "def functions([parameter1, parameter2,..., parameterN]):\n",
    "    \"\"\"Documentation for the function \"\"\"\n",
    "    < block_of_instruction>\n",
    "\n",
    "```"
   ]
  },
  {
   "cell_type": "code",
   "execution_count": 6,
   "id": "d54be0f7-7036-4416-8545-88f393cacbf7",
   "metadata": {},
   "outputs": [],
   "source": [
    "def multiplication_table_8():\n",
    "    \"\"\"\n",
    "    The purpose of this function id to dislaythe first 20\n",
    "    values of sthe multiplication tbale for 8.]\n",
    "    Input : None\n",
    "    Output: The multiplication table for 8\n",
    "\n",
    "    \"\"\"\n",
    "    n = 1\n",
    "    while n <= 10:\n",
    "        v = n * 8\n",
    "        print(n, 'x', 8, '=', v, sep= ' ')\n",
    "        n = n + 1\n"
   ]
  },
  {
   "cell_type": "code",
   "execution_count": 7,
   "id": "78e945a2-29fe-4306-b3ae-6392601b2ce2",
   "metadata": {},
   "outputs": [
    {
     "name": "stdout",
     "output_type": "stream",
     "text": [
      "1 x 8 = 8\n",
      "2 x 8 = 16\n",
      "3 x 8 = 24\n",
      "4 x 8 = 32\n",
      "5 x 8 = 40\n",
      "6 x 8 = 48\n",
      "7 x 8 = 56\n",
      "8 x 8 = 64\n",
      "9 x 8 = 72\n",
      "10 x 8 = 80\n"
     ]
    }
   ],
   "source": [
    "multiplication_table_8()"
   ]
  },
  {
   "cell_type": "code",
   "execution_count": 9,
   "id": "67cb6ec9-fd78-4f72-9b01-d731067656be",
   "metadata": {},
   "outputs": [],
   "source": [
    "def multiplication_table(n):\n",
    "    print(\"=\" * 25)\n",
    "    for i in range(1,11):\n",
    "        result = i * n\n",
    "        print(f\"{i:2} x {n:2} = {result : 3}\")\n",
    "    print(\"=\" * 20)\n",
    "    "
   ]
  },
  {
   "cell_type": "code",
   "execution_count": 10,
   "id": "b28c12ef-6bd0-4996-9837-3873e72712f4",
   "metadata": {},
   "outputs": [
    {
     "name": "stdout",
     "output_type": "stream",
     "text": [
      "=========================\n",
      " 1 x 20 =  20\n",
      " 2 x 20 =  40\n",
      " 3 x 20 =  60\n",
      " 4 x 20 =  80\n",
      " 5 x 20 =  100\n",
      " 6 x 20 =  120\n",
      " 7 x 20 =  140\n",
      " 8 x 20 =  160\n",
      " 9 x 20 =  180\n",
      "10 x 20 =  200\n",
      "====================\n"
     ]
    }
   ],
   "source": [
    "multiplication_table(20)"
   ]
  },
  {
   "cell_type": "markdown",
   "id": "40c91a0c-7c53-4d65-93c6-add74c159ce7",
   "metadata": {},
   "source": [
    "### One parameter, use of `return`"
   ]
  },
  {
   "cell_type": "code",
   "execution_count": 11,
   "id": "dd26b207-8a86-4946-b529-feae30166e17",
   "metadata": {},
   "outputs": [],
   "source": [
    "def square(x):\n",
    "    \"\"\"\n",
    "    Calculate the square of  give number.\n",
    "    input: The number x to be square\n",
    "    output: The square of the input number\n",
    "    Args:\n",
    "    x(float): The number to be squared.\n",
    "    Returns:\n",
    "    float: the square of the input number (arg).\n",
    "\n",
    "    \"\"\"\n",
    "    \n",
    "    return x**2\n",
    "    "
   ]
  },
  {
   "cell_type": "code",
   "execution_count": 15,
   "id": "d341e1dd-e74c-45af-af4b-6b784f8b8a47",
   "metadata": {},
   "outputs": [
    {
     "data": {
      "text/plain": [
       "2025"
      ]
     },
     "execution_count": 15,
     "metadata": {},
     "output_type": "execute_result"
    }
   ],
   "source": [
    "square(45)"
   ]
  },
  {
   "cell_type": "code",
   "execution_count": 16,
   "id": "2e13a9be-eb91-453f-94f9-abe74aca7977",
   "metadata": {},
   "outputs": [],
   "source": [
    "def Area(l, L):\n",
    "    \"\"\"\n",
    "    This Area function calculates the area of  a rectangle.\n",
    "    Input: Two parameter ( L: length , l: width)\n",
    "    Output: The Area which is ( l times L)\n",
    "    \n",
    "    \"\"\"\n",
    "    return l*L"
   ]
  },
  {
   "cell_type": "code",
   "execution_count": 17,
   "id": "c3f38e40-a160-4df5-ad1a-2485ee227a63",
   "metadata": {},
   "outputs": [
    {
     "data": {
      "text/plain": [
       "24"
      ]
     },
     "execution_count": 17,
     "metadata": {},
     "output_type": "execute_result"
    }
   ],
   "source": [
    "Area(4,6)"
   ]
  },
  {
   "cell_type": "code",
   "execution_count": null,
   "id": "3386f684-4c73-4259-8cc0-b28859a5349a",
   "metadata": {},
   "outputs": [],
   "source": []
  }
 ],
 "metadata": {
  "kernelspec": {
   "display_name": "Python 3 (ipykernel)",
   "language": "python",
   "name": "python3"
  },
  "language_info": {
   "codemirror_mode": {
    "name": "ipython",
    "version": 3
   },
   "file_extension": ".py",
   "mimetype": "text/x-python",
   "name": "python",
   "nbconvert_exporter": "python",
   "pygments_lexer": "ipython3",
   "version": "3.12.2"
  }
 },
 "nbformat": 4,
 "nbformat_minor": 5
}
